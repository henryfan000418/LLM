{
 "cells": [
  {
   "cell_type": "code",
   "execution_count": 1,
   "metadata": {
    "tags": []
   },
   "outputs": [],
   "source": [
    "import sys\n",
    "import re"
   ]
  },
  {
   "cell_type": "code",
   "execution_count": 2,
   "metadata": {
    "tags": []
   },
   "outputs": [
    {
     "name": "stdout",
     "output_type": "stream",
     "text": [
      "3.11.9 | packaged by conda-forge | (main, Apr 19 2024, 18:36:13) [GCC 12.3.0]\n"
     ]
    }
   ],
   "source": [
    "print(sys.version)"
   ]
  },
  {
   "cell_type": "markdown",
   "metadata": {},
   "source": [
    "## re Module Function Basics"
   ]
  },
  {
   "cell_type": "markdown",
   "metadata": {},
   "source": [
    "regex in python can be implemented using the built-in `re` module. There are several functions to note within the regex module:\n",
    "- `re.match(pattern, string)`\n",
    "- `re.search(pattern, string)`\n",
    "- `re.findall(pattern, string)`\n",
    "- `re.finditer(pattern string)`\n",
    "- `re.sub(pattern, repl, string)`\n",
    "- `re.compile(pattern)`"
   ]
  },
  {
   "cell_type": "code",
   "execution_count": 3,
   "metadata": {
    "tags": []
   },
   "outputs": [],
   "source": [
    "text = \"Questions? Please do not hesitate to contact us at support@ourcompany.com (please allow 24 hours for our customer care team to respond to your questions). For more immediate service, you can also reach out to our customer care team at 1-555-555-5555. We are dedicated to ensuring your satisfaction and saving you $$$.\""
   ]
  },
  {
   "cell_type": "markdown",
   "metadata": {},
   "source": [
    "`re.match()` will search for a pattern and then returns a `Match` object **if it is at the beginning of the string**. If no pattern is found, a `None` is returned."
   ]
  },
  {
   "cell_type": "code",
   "execution_count": 4,
   "metadata": {
    "tags": []
   },
   "outputs": [],
   "source": [
    "match = re.match(pattern=\"Questions\", string=text)\n",
    "no_match = re.match(pattern=\"Please\", string=text)"
   ]
  },
  {
   "cell_type": "markdown",
   "metadata": {},
   "source": [
    "The match object provides information on the match."
   ]
  },
  {
   "cell_type": "code",
   "execution_count": 5,
   "metadata": {
    "tags": []
   },
   "outputs": [
    {
     "name": "stdout",
     "output_type": "stream",
     "text": [
      "<re.Match object; span=(0, 9), match='Questions'>\n"
     ]
    }
   ],
   "source": [
    "print(match)"
   ]
  },
  {
   "cell_type": "code",
   "execution_count": 6,
   "metadata": {
    "tags": []
   },
   "outputs": [
    {
     "name": "stdout",
     "output_type": "stream",
     "text": [
      "None\n"
     ]
    }
   ],
   "source": [
    "# the pattern is correct, it's just not at the beginning of a string\n",
    "print(no_match)"
   ]
  },
  {
   "cell_type": "markdown",
   "metadata": {},
   "source": [
    "We can call various methods on the match object."
   ]
  },
  {
   "cell_type": "code",
   "execution_count": 7,
   "metadata": {
    "tags": []
   },
   "outputs": [
    {
     "data": {
      "text/plain": [
       "'Questions'"
      ]
     },
     "execution_count": 7,
     "metadata": {},
     "output_type": "execute_result"
    }
   ],
   "source": [
    "# used to extract the matched string\n",
    "# note, if a regular expression had capture groups, then we can return each group seperately (this is demonstrated below)\n",
    "match.group()"
   ]
  },
  {
   "cell_type": "code",
   "execution_count": 8,
   "metadata": {
    "tags": []
   },
   "outputs": [
    {
     "data": {
      "text/plain": [
       "0"
      ]
     },
     "execution_count": 8,
     "metadata": {},
     "output_type": "execute_result"
    }
   ],
   "source": [
    "match.start()"
   ]
  },
  {
   "cell_type": "code",
   "execution_count": 9,
   "metadata": {
    "tags": []
   },
   "outputs": [
    {
     "data": {
      "text/plain": [
       "9"
      ]
     },
     "execution_count": 9,
     "metadata": {},
     "output_type": "execute_result"
    }
   ],
   "source": [
    "match.end()"
   ]
  },
  {
   "cell_type": "markdown",
   "metadata": {},
   "source": [
    "`re.search()` finds the **first** instance of a match **anywhere** in the string and returns a `Match` object. As before, if no pattern is found, a `None` is returned."
   ]
  },
  {
   "cell_type": "code",
   "execution_count": 10,
   "metadata": {
    "tags": []
   },
   "outputs": [],
   "source": [
    "text = \"Questions? Please do not hesitate to contact us at support@ourcompany.com (please allow 24 hours for our customer care team to respond to your questions). For more immediate service, you can also reach out to our customer care team at 1-555-555-5555. We are dedicated to ensuring your satisfaction and saving you $$$.\""
   ]
  },
  {
   "cell_type": "code",
   "execution_count": 11,
   "metadata": {
    "tags": []
   },
   "outputs": [
    {
     "name": "stdout",
     "output_type": "stream",
     "text": [
      "<re.Match object; span=(105, 113), match='customer'>\n"
     ]
    }
   ],
   "source": [
    "match = re.search(pattern=\"customer\", string=text) # Q: how many instances do we expect to see given this pattern? A: 2\n",
    "\n",
    "print(match)"
   ]
  },
  {
   "cell_type": "markdown",
   "metadata": {},
   "source": [
    "We can use `re.findall()` to get all instances of a match, not just the first. Note that the return type is different from the `re.search()` function. Specifically:\n",
    "\n",
    "> If there are no groups, return a list of strings matching the whole pattern. If there is exactly one group, return a list of strings matching that group. If multiple groups are present, return a list of tuples of strings matching the groups. Non-capturing groups do not affect the form of the result."
   ]
  },
  {
   "cell_type": "code",
   "execution_count": 12,
   "metadata": {
    "tags": []
   },
   "outputs": [
    {
     "name": "stdout",
     "output_type": "stream",
     "text": [
      "['customer', 'customer']\n"
     ]
    }
   ],
   "source": [
    "# example with no groups\n",
    "all_matches = re.findall(pattern=\"customer\", string=text)\n",
    "\n",
    "print(all_matches)"
   ]
  },
  {
   "cell_type": "markdown",
   "metadata": {},
   "source": [
    "If we want to get the top level match and all the groups of the match, we can use `re.finditer()`."
   ]
  },
  {
   "cell_type": "code",
   "execution_count": 13,
   "metadata": {
    "tags": []
   },
   "outputs": [
    {
     "name": "stdout",
     "output_type": "stream",
     "text": [
      "full_match='1-555-555-5555'\n",
      "first_group='555'\n",
      "groups=('555', '555-5555')\n"
     ]
    }
   ],
   "source": [
    "# example with both capturing and non-capturing groups\n",
    "all_matches = re.finditer(pattern=\"(?:1-)?(\\d{3})-(\\d{3}-\\d{4})\", string=text)\n",
    "\n",
    "for match in all_matches:\n",
    "    full_match = match.group(0)\n",
    "    print(f\"{full_match=}\") # the top-level match\n",
    "    first_group = match.group(1)\n",
    "    print(f\"{first_group=}\") # first group\n",
    "    groups = match.groups()\n",
    "    print(f\"{groups=}\") # all groups as a tuple"
   ]
  },
  {
   "cell_type": "markdown",
   "metadata": {},
   "source": [
    "We can substitute based on regex patterns using `re.sub()` function, which returns a string."
   ]
  },
  {
   "cell_type": "code",
   "execution_count": 14,
   "metadata": {
    "tags": []
   },
   "outputs": [
    {
     "name": "stdout",
     "output_type": "stream",
     "text": [
      "Questions? Please do not hesitate to contact us at support@ourcompany.com (please allow __ hours for our customer care team to respond to your questions). For more immediate service, you can also reach out to our customer care team at _-555-555-5555. We are dedicated to ensuring your satisfaction and saving you $$$.\n",
      "\n",
      "Questions? Please do not hesitate to contact us at support@ourcompany.com (please allow __ hours for our customer care team to respond to your questions). For more immediate service, you can also reach out to our customer care team at _-___-__5-5555. We are dedicated to ensuring your satisfaction and saving you $$$.\n",
      "\n",
      "Questions? Please do not hesitate to contact us at support@ourcompany.com (please allow __ hours for our customer care team to respond to your questions). For more immediate service, you can also reach out to our customer care team at _-___-___-____. We are dedicated to ensuring your satisfaction and saving you $$$.\n"
     ]
    }
   ],
   "source": [
    "# will print several instances of substitutions on the text\n",
    "print(\n",
    "    re.sub(pattern=\"\\d\", repl=\"_\", string=text, count=3),\n",
    "    re.sub(pattern=\"\\d\", repl=\"_\", string=text, count=8),\n",
    "    re.sub(pattern=\"\\d\", repl=\"_\", string=text),\n",
    "    sep=\"\\n\\n\"\n",
    ")"
   ]
  },
  {
   "cell_type": "markdown",
   "metadata": {},
   "source": [
    "We can make things more efficient by using the `re.compile()` function which returns a regular expression object. That object that can be referenced throughout the code, with associated `match()`, `search()`, `findall()`, and `sub()`. "
   ]
  },
  {
   "cell_type": "code",
   "execution_count": 15,
   "metadata": {
    "tags": []
   },
   "outputs": [
    {
     "name": "stdout",
     "output_type": "stream",
     "text": [
      "<re.Match object; span=(0, 8), match='Question'>\n",
      "<re.Match object; span=(0, 8), match='Question'>\n",
      "['Question', 'question']\n"
     ]
    }
   ],
   "source": [
    "pattern = re.compile(\"[Qq]uestion\")\n",
    "\n",
    "print(\n",
    "    pattern.match(string=text), # will match beginning of the string\n",
    "    pattern.search(string=text), # will match first instance anywhere in the string\n",
    "    pattern.findall(string=text), # will find all instances\n",
    "    sep=\"\\n\"\n",
    ")"
   ]
  },
  {
   "cell_type": "markdown",
   "metadata": {},
   "source": [
    "## Regex Patterns"
   ]
  },
  {
   "cell_type": "markdown",
   "metadata": {},
   "source": [
    "### Character Sets"
   ]
  },
  {
   "cell_type": "markdown",
   "metadata": {},
   "source": [
    "Character sets denote all possible options for a character. Can be thought of as a character-level \"or\""
   ]
  },
  {
   "cell_type": "code",
   "execution_count": 16,
   "metadata": {
    "tags": []
   },
   "outputs": [
    {
     "name": "stdout",
     "output_type": "stream",
     "text": [
      "60 matches found: ['T', 'h', 's', ' ', 'x', 'm', 'p', 'l', ' ', 'd', 'm', 'n', 's', 't', 'r', 't', 's', ' ', 's', 'n', 'g', ' ', 'c', 'h', 'r', 'c', 't', 'r', ' ', 's', 't', 's', ',', ' ', ' ', 'f', 'r', 'm', ' ', 'f', ' ', 'c', 'h', 'r', 'c', 't', 'r', '-', 'l', 'v', 'l', ' ', 'd', 's', 'j', 'n', 'c', 't', 'n', '.']\n"
     ]
    }
   ],
   "source": [
    "text = \"This example demonstrates using character sets, a form of character-level disjunction.\"\n",
    "\n",
    "pattern = \"[^aeiou]\" # can negate by adding ^ at beginning of the set\n",
    "\n",
    "matches = re.findall(pattern, text) # will return all instances anywhere in the text\n",
    "print(f\"{len(matches)} matches found: {matches}\")"
   ]
  },
  {
   "cell_type": "code",
   "execution_count": 17,
   "metadata": {
    "tags": []
   },
   "outputs": [
    {
     "name": "stdout",
     "output_type": "stream",
     "text": [
      "63 matches found: ['T', 'h', 'i', 's', ' ', 'x', 'm', 'p', 'l', ' ', 'm', 'o', 'n', 's', 't', 'r', 't', 's', ' ', 'u', 's', 'i', 'n', 'g', ' ', 'h', 'r', 't', 'r', ' ', 's', 't', 's', ',', ' ', ' ', 'f', 'o', 'r', 'm', ' ', 'o', 'f', ' ', 'h', 'r', 't', 'r', '-', 'l', 'v', 'l', ' ', 'i', 's', 'j', 'u', 'n', 't', 'i', 'o', 'n', '.']\n"
     ]
    }
   ],
   "source": [
    "text = \"This example demonstrates using character sets, a form of character-level disjunction.\"\n",
    "\n",
    "pattern = r\"[^a-e]\"\n",
    "\n",
    "matches = re.findall(pattern, text)\n",
    "print(f\"{len(matches)} matches found: {matches}\")"
   ]
  },
  {
   "cell_type": "code",
   "execution_count": 18,
   "metadata": {
    "tags": []
   },
   "outputs": [
    {
     "name": "stdout",
     "output_type": "stream",
     "text": [
      "14 matches found: ['.', '^', '$', '*', '+', '?', '{', '}', ']', '\\\\', '|', '(', ')', '-']\n"
     ]
    }
   ],
   "source": [
    "text = \"These are metacharacters: . ^ $ * + ? { } [ ] \\ | ( ) -\"\n",
    "\n",
    "# in a character set, most metacharacters are disabled\n",
    "pattern = r\"[.^$*+?{}\\]|()\\-\\\\]\" # what if ^ was in the front?\n",
    "\n",
    "matches = re.findall(pattern, text)\n",
    "print(f\"{len(matches)} matches found: {matches}\")"
   ]
  },
  {
   "cell_type": "markdown",
   "metadata": {},
   "source": [
    "### Grouping"
   ]
  },
  {
   "cell_type": "markdown",
   "metadata": {},
   "source": [
    "Grouping allows us to extract substrings from the overall match."
   ]
  },
  {
   "cell_type": "code",
   "execution_count": 19,
   "metadata": {
    "tags": []
   },
   "outputs": [],
   "source": [
    "text = \"Questions? Please do not hesitate to contact us at support@ourcompany.com (please allow 24 hours for our customer care team to respond to your questions). For more immediate service, you can also reach out to our customer care team at 1-555-555-5555. We are dedicated to ensuring your satisfaction (and saving you $$$).\""
   ]
  },
  {
   "cell_type": "code",
   "execution_count": 20,
   "metadata": {
    "tags": []
   },
   "outputs": [
    {
     "name": "stdout",
     "output_type": "stream",
     "text": [
      "[('support', 'ourcompany', 'com')]\n",
      "matches.group(0)='support@ourcompany.com'\n",
      "matches.group(1)='support'\n",
      "matches.group(2)='ourcompany'\n",
      "matches.group(3)='com'\n"
     ]
    }
   ],
   "source": [
    "pattern = \"([A-Za-z0-9.-]+)@([A-Za-z0-9.-]+)\\.([A-Za-z]{2,})\"\n",
    "matches = re.findall(pattern, text) # if groups exist, findall() will only return the groups, not top-level match\n",
    "print(matches)\n",
    "\n",
    "matches = re.search(pattern, text)\n",
    "print(f\"{matches.group(0)=}\") # entire email match\n",
    "print(f\"{matches.group(1)=}\") # local part\n",
    "print(f\"{matches.group(2)=}\") # domain\n",
    "print(f\"{matches.group(3)=}\") # top-level domain"
   ]
  },
  {
   "cell_type": "markdown",
   "metadata": {},
   "source": [
    "Non-capturing groups allow the benefits of groups, without the cost of the regex engine having to keep track of the groups."
   ]
  },
  {
   "cell_type": "code",
   "execution_count": 21,
   "metadata": {
    "tags": []
   },
   "outputs": [
    {
     "name": "stdout",
     "output_type": "stream",
     "text": [
      "['1-555-555-5555']\n",
      "`matches.group(1)` didn't work\n"
     ]
    }
   ],
   "source": [
    "pattern = \"(?:1-)?(?:\\d{3})-\\d{3}-\\d{4}\"\n",
    "matches = re.findall(pattern, text)\n",
    "print(matches)\n",
    "\n",
    "matches = re.search(pattern, text)\n",
    "try:\n",
    "    print(f\"{matches.group(1)=}\") # <-- will throw an error because no groups exists\n",
    "except:\n",
    "    print(\"`matches.group(1)` didn't work\")"
   ]
  },
  {
   "cell_type": "markdown",
   "metadata": {},
   "source": [
    "### Lookaheads and Lookbehinds"
   ]
  },
  {
   "cell_type": "markdown",
   "metadata": {},
   "source": [
    "Lookaheads and lookbehinds are useful when we want to match a pattern based on their surrounding context"
   ]
  },
  {
   "cell_type": "code",
   "execution_count": 22,
   "metadata": {
    "tags": []
   },
   "outputs": [
    {
     "name": "stdout",
     "output_type": "stream",
     "text": [
      "regex as single line: ^(?=.*[a-z])(?=.*[A-Z])(?=.*\\d.*\\d)(?=.*[@$!%*?&]).{8,}$\n",
      "None\n",
      "None\n",
      "<re.Match object; span=(0, 17), match='Hello123!goodbye?'>\n"
     ]
    }
   ],
   "source": [
    "passwords = [\"hello123\", \"Hello123\", \"Hello123!goodbye?\"]\n",
    "\n",
    "pattern = (\n",
    "    \"^(?=.*[a-z])\"  # at least one lowercase letter after the start of the string\n",
    "    \"(?=.*[A-Z])\"  # at least one uppercase letter after the start of the string\n",
    "    \"(?=.*\\d.*\\d)\"  # at least two digits after the start of the string\n",
    "    \"(?=.*[@$!%*?&])\"  # at least one special character after the start of the string\n",
    "    \".{8,}$\" # at least 8 characters after the start of the string\n",
    ")\n",
    "\n",
    "print(\"regex as single line:\", pattern)\n",
    "\n",
    "for text in passwords:\n",
    "    matches = re.search(pattern, text)\n",
    "    print(matches)"
   ]
  },
  {
   "cell_type": "markdown",
   "metadata": {},
   "source": [
    "### Greedy vs Lazy Behavior"
   ]
  },
  {
   "cell_type": "markdown",
   "metadata": {},
   "source": [
    "By default, the regex pattern tries to match as much of a pattern as it can. This is considered \"greedy\" behavior. For example, consider the pattern `[a-z]*`, given the string `hello`. Why would this return `hello` and not `h` or `he` or `hel`? These are all instances of \"zero or more a through z characters\". Because the engine tries to return the **longest string it can find**.\n",
    "\n",
    "Consider the below example of trying to extract all paranthetical statements in the below text."
   ]
  },
  {
   "cell_type": "code",
   "execution_count": 23,
   "metadata": {
    "tags": []
   },
   "outputs": [],
   "source": [
    "text = \"Questions? Please do not hesitate to contact us at support@ourcompany.com (please allow 24 hours for our customer care team to respond to your questions). For more immediate service, you can also reach out to our customer care team at 1-555-555-5555. We are dedicated to ensuring your satisfaction (and saving you $$$).\""
   ]
  },
  {
   "cell_type": "code",
   "execution_count": 24,
   "metadata": {
    "tags": []
   },
   "outputs": [
    {
     "name": "stdout",
     "output_type": "stream",
     "text": [
      "['(please allow 24 hours for our customer care team to respond to your questions). For more immediate service, you can also reach out to our customer care team at 1-555-555-5555. We are dedicated to ensuring your satisfaction (and saving you $$$)']\n"
     ]
    }
   ],
   "source": [
    "pattern = \"\\(.+\\)\" # default greedy behavior\n",
    "# pattern = \"\\(([a-zA-z0-9 $]+)\\)\" # this would work too but we would have to keep adding possibilities for characters in the parans\n",
    "matches = re.findall(pattern, text)\n",
    "print(matches)"
   ]
  },
  {
   "cell_type": "code",
   "execution_count": 25,
   "metadata": {
    "tags": []
   },
   "outputs": [
    {
     "name": "stdout",
     "output_type": "stream",
     "text": [
      "['(please allow 24 hours for our customer care team to respond to your questions)', '(and saving you $$$)']\n"
     ]
    }
   ],
   "source": [
    "pattern = \"\\(.+?\\)\" # lazy behavior\n",
    "matches = re.findall(pattern, text)\n",
    "print(matches)"
   ]
  },
  {
   "cell_type": "code",
   "execution_count": 26,
   "metadata": {
    "tags": []
   },
   "outputs": [],
   "source": [
    "text = \"\"\"\n",
    "<html>\n",
    "<body>\n",
    "<p>This is the first paragraph.</p>\n",
    "<p>This is the second paragraph, which includes <a href=\"link\">a link</a>.</p>\n",
    "</body>\n",
    "</html>\n",
    "\"\"\""
   ]
  },
  {
   "cell_type": "code",
   "execution_count": 27,
   "metadata": {
    "tags": []
   },
   "outputs": [
    {
     "name": "stdout",
     "output_type": "stream",
     "text": [
      "['This is the first paragraph.</p>\\n<p>This is the second paragraph, which includes <a href=\"link\">a link</a>.']\n"
     ]
    }
   ],
   "source": [
    "pattern = \"<p>(.+)</p>\" # greedy\n",
    "matches = re.findall(pattern=pattern, string=text, flags=re.DOTALL) # re.DOTALL matches any character, including \\n\n",
    "print(matches)"
   ]
  },
  {
   "cell_type": "code",
   "execution_count": 28,
   "metadata": {
    "tags": []
   },
   "outputs": [
    {
     "name": "stdout",
     "output_type": "stream",
     "text": [
      "['This is the first paragraph.', 'This is the second paragraph, which includes <a href=\"link\">a link</a>.']\n"
     ]
    }
   ],
   "source": [
    "pattern = \"<p>(.*?)</p>\" # lazy\n",
    "matches = re.findall(pattern=pattern, string=text, flags=re.DOTALL)\n",
    "print(matches)"
   ]
  },
  {
   "cell_type": "markdown",
   "metadata": {},
   "source": [
    "### Alteration"
   ]
  },
  {
   "cell_type": "markdown",
   "metadata": {},
   "source": [
    "There are also another way to introduce an \"or\" using the pipe: `|`. It is useful for when we watch to match several patterns; think of this as a pattern-level \"or\"."
   ]
  },
  {
   "cell_type": "code",
   "execution_count": 29,
   "metadata": {
    "tags": []
   },
   "outputs": [
    {
     "name": "stdout",
     "output_type": "stream",
     "text": [
      "['cat', 'dog', 'fish']\n"
     ]
    }
   ],
   "source": [
    "text = \"I have a cat, a dog, and a fish in my house.\"\n",
    "\n",
    "pattern = \"cat|dog|fish\"\n",
    "\n",
    "matches = re.findall(pattern, text)\n",
    "print(matches)"
   ]
  },
  {
   "cell_type": "code",
   "execution_count": 30,
   "metadata": {
    "tags": []
   },
   "outputs": [
    {
     "name": "stdout",
     "output_type": "stream",
     "text": [
      "['2024-01-20', '20/01/2024']\n"
     ]
    }
   ],
   "source": [
    "text = \"Two date patterns are 2024-01-20 20/01/2024\"\n",
    "\n",
    "pattern = \"\\d{4}-\\d{2}-\\d{2}|\\d{2}/\\d{2}/\\d{4}\"\n",
    "\n",
    "matches = re.findall(pattern, text)\n",
    "print(matches)"
   ]
  },
  {
   "cell_type": "markdown",
   "metadata": {},
   "source": [
    "Beware that the pipe matches whatever pattern is the left and to the right. We can control or limit this behavior by usings groups."
   ]
  },
  {
   "cell_type": "code",
   "execution_count": 31,
   "metadata": {
    "tags": []
   },
   "outputs": [
    {
     "name": "stdout",
     "output_type": "stream",
     "text": [
      "['bat', 'birdman']\n"
     ]
    }
   ],
   "source": [
    "text = \"Have you heard of batman? No? What about birdman.\" # The intent here is to capture either \"birdman\" or \"batman\"\n",
    "\n",
    "pattern = \"bat|birdman\" # but is that what this pattern will do?\n",
    "\n",
    "matches = re.findall(pattern, text)\n",
    "print(matches)"
   ]
  },
  {
   "cell_type": "code",
   "execution_count": 32,
   "metadata": {
    "tags": []
   },
   "outputs": [
    {
     "name": "stdout",
     "output_type": "stream",
     "text": [
      "['batman', 'birdman']\n"
     ]
    }
   ],
   "source": [
    "text = \"Have you heard of batman? No? What about birdman.\" # The intent here is to capture either \"birdman\" or \"batman\"\n",
    "\n",
    "pattern = \"(?:bat|bird)man\"\n",
    "\n",
    "matches = re.findall(pattern, text) # \n",
    "print(matches)"
   ]
  },
  {
   "cell_type": "markdown",
   "metadata": {},
   "source": [
    "## Regex in Pandas"
   ]
  },
  {
   "cell_type": "markdown",
   "metadata": {},
   "source": [
    "There is some native support for regex in pandas. Namely, they can be used as follows:"
   ]
  },
  {
   "cell_type": "code",
   "execution_count": null,
   "metadata": {},
   "outputs": [],
   "source": [
    "df['column'].str.replace('pattern', 'replacement', regex=True) # can be used to replace substrings in a column\n",
    "df['column'].str.contains('pattern', regex=True) # can be used to create boolean Series for filtering\n",
    "df['column'].str.extractall('(pattern)', expand=True) # can be used to extract regex groups into dataframe "
   ]
  }
 ],
 "metadata": {
  "environment": {
   "kernel": "conda-root-py",
   "name": "workbench-notebooks.m118",
   "type": "gcloud",
   "uri": "us-docker.pkg.dev/deeplearning-platform-release/gcr.io/workbench-notebooks:m118"
  },
  "kernelspec": {
   "display_name": "adsp-nlp",
   "language": "python",
   "name": "micromamba-env-adsp-nlp-adsp-nlp"
  },
  "language_info": {
   "codemirror_mode": {
    "name": "ipython",
    "version": 3
   },
   "file_extension": ".py",
   "mimetype": "text/x-python",
   "name": "python",
   "nbconvert_exporter": "python",
   "pygments_lexer": "ipython3",
   "version": "3.11.9"
  }
 },
 "nbformat": 4,
 "nbformat_minor": 4
}
